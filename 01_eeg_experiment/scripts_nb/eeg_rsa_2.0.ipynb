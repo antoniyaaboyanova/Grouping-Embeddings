{
 "cells": [
  {
   "cell_type": "code",
   "execution_count": 54,
   "id": "9515fe33",
   "metadata": {},
   "outputs": [
    {
     "name": "stdout",
     "output_type": "stream",
     "text": [
      "loading file: /projects/crunchie/boyanova/EEG_Things/eeg_prep/scripts/exp_stimuli_selection.pkl\n",
      "loading file: /projects/crunchie/boyanova/EEG_Things/eeg_prep/scripts/exp_stimuli_selection.pkl\n"
     ]
    }
   ],
   "source": [
    "import numpy as np\n",
    "import os\n",
    "import pickle\n",
    "from scipy import stats\n",
    "\n",
    "def load_data(file):\n",
    "    print('loading file: ' + file)\n",
    "    with open(file, 'rb') as f:\n",
    "        data = pickle.load(f)\n",
    "\n",
    "    return(data)\n",
    "\n",
    "def upper(df):\n",
    "\n",
    "    try:\n",
    "        assert(type(df)==np.ndarray)\n",
    "    except:\n",
    "        if type(df)==pd.DataFrame:\n",
    "            df = df.values\n",
    "        else:\n",
    "            raise TypeError('Must be np.ndarray or pd.DataFrame')\n",
    "    mask = np.triu_indices(df.shape[0], k=1)\n",
    "    return df[mask]\n",
    "\n",
    "project_path = \"/projects/crunchie/boyanova/EEG_Things/\"\n",
    "\n",
    "# Load CLIP rdms\n",
    "clip_path = os.path.join(project_path, \"eeg_prep\", \"scripts\") \n",
    "vis = np.array(load_data(os.path.join(clip_path, \"exp_stimuli_selection.pkl\"))['image_embeddings'])\n",
    "txt = np.array(load_data(os.path.join(clip_path, \"exp_stimuli_selection.pkl\"))['text_embeddings'])\n",
    "vis_corr_mat = 1 - np.corrcoef(vis)\n",
    "txt_corr_mat = 1 -  np.corrcoef(txt)\n",
    "\n",
    "# create a subject matrix either svm or mahlanobis \n",
    "subject_path = os.path.join(project_path, \"eeg_experiment\", \"eeg_decoding\")\n",
    "subjects = [2,3,4,5,7,8,9,10,11,12]\n"
   ]
  },
  {
   "cell_type": "code",
   "execution_count": 62,
   "id": "7be9f1a5",
   "metadata": {},
   "outputs": [
    {
     "data": {
      "text/plain": [
       "(4, 768)"
      ]
     },
     "execution_count": 62,
     "metadata": {},
     "output_type": "execute_result"
    }
   ],
   "source": [
    "txt.shape"
   ]
  },
  {
   "cell_type": "code",
   "execution_count": 43,
   "id": "8b4d5f5e",
   "metadata": {},
   "outputs": [
    {
     "name": "stdout",
     "output_type": "stream",
     "text": [
      "loading file: /projects/crunchie/boyanova/EEG_Things/eeg_experiment/eeg_decoding/eeg_decoding_0002.pickle\n",
      "loading file: /projects/crunchie/boyanova/EEG_Things/eeg_experiment/eeg_decoding/eeg_decoding_0003.pickle\n",
      "loading file: /projects/crunchie/boyanova/EEG_Things/eeg_experiment/eeg_decoding/eeg_decoding_0004.pickle\n",
      "loading file: /projects/crunchie/boyanova/EEG_Things/eeg_experiment/eeg_decoding/eeg_decoding_0005.pickle\n",
      "loading file: /projects/crunchie/boyanova/EEG_Things/eeg_experiment/eeg_decoding/eeg_decoding_0007.pickle\n",
      "loading file: /projects/crunchie/boyanova/EEG_Things/eeg_experiment/eeg_decoding/eeg_decoding_0008.pickle\n",
      "loading file: /projects/crunchie/boyanova/EEG_Things/eeg_experiment/eeg_decoding/eeg_decoding_0009.pickle\n",
      "loading file: /projects/crunchie/boyanova/EEG_Things/eeg_experiment/eeg_decoding/eeg_decoding_0010.pickle\n",
      "loading file: /projects/crunchie/boyanova/EEG_Things/eeg_experiment/eeg_decoding/eeg_decoding_0011.pickle\n",
      "loading file: /projects/crunchie/boyanova/EEG_Things/eeg_experiment/eeg_decoding/eeg_decoding_0012.pickle\n"
     ]
    }
   ],
   "source": [
    "subject_data_svm = np.full((len(subjects), 4,4,4, 90), np.nan)\n",
    "\n",
    "for sub_id, sub in enumerate(subjects):\n",
    "    decoding_data = load_data(os.path.join(project_path, f\"eeg_experiment/eeg_decoding/eeg_decoding_{sub:04d}.pickle\"))\n",
    "    for key_id, key in enumerate(decoding_data.keys()):\n",
    "        vec = []\n",
    "        for t in range(decoding_data[key].shape[-1]):\n",
    "            subject_data_svm[sub_id, key_id,:,:, t] = (decoding_data[key][:, :, t] * 100) - 50"
   ]
  },
  {
   "cell_type": "code",
   "execution_count": 44,
   "id": "befd24f5",
   "metadata": {},
   "outputs": [
    {
     "name": "stdout",
     "output_type": "stream",
     "text": [
      "loading file: /projects/crunchie/boyanova/EEG_Things/eeg_experiment/eeg_decoding/eeg_mahlanobis_0002.pickle\n",
      "loading file: /projects/crunchie/boyanova/EEG_Things/eeg_experiment/eeg_decoding/eeg_mahlanobis_0003.pickle\n",
      "loading file: /projects/crunchie/boyanova/EEG_Things/eeg_experiment/eeg_decoding/eeg_mahlanobis_0004.pickle\n",
      "loading file: /projects/crunchie/boyanova/EEG_Things/eeg_experiment/eeg_decoding/eeg_mahlanobis_0005.pickle\n",
      "loading file: /projects/crunchie/boyanova/EEG_Things/eeg_experiment/eeg_decoding/eeg_mahlanobis_0007.pickle\n",
      "loading file: /projects/crunchie/boyanova/EEG_Things/eeg_experiment/eeg_decoding/eeg_mahlanobis_0008.pickle\n",
      "loading file: /projects/crunchie/boyanova/EEG_Things/eeg_experiment/eeg_decoding/eeg_mahlanobis_0009.pickle\n",
      "loading file: /projects/crunchie/boyanova/EEG_Things/eeg_experiment/eeg_decoding/eeg_mahlanobis_0010.pickle\n",
      "loading file: /projects/crunchie/boyanova/EEG_Things/eeg_experiment/eeg_decoding/eeg_mahlanobis_0011.pickle\n",
      "loading file: /projects/crunchie/boyanova/EEG_Things/eeg_experiment/eeg_decoding/eeg_mahlanobis_0012.pickle\n"
     ]
    }
   ],
   "source": [
    "n_subjects = len(subjects)\n",
    "subject_data_edi = np.full((len(subjects), 4, 4, 4, 90), np.nan)\n",
    "\n",
    "for sub_id, sub in enumerate(subjects):\n",
    "    edi_data = load_data(os.path.join(project_path, f\"eeg_experiment/eeg_decoding/eeg_mahlanobis_{sub:04d}.pickle\"))\n",
    "    for key_id, key in enumerate(edi_data.keys()):\n",
    "        vec = []\n",
    "        for t in range(edi_data[key].shape[-1]):\n",
    "            subject_data_edi[sub_id, key_id, :, :, t] = edi_data[key][:, :, t]\n"
   ]
  },
  {
   "cell_type": "code",
   "execution_count": 55,
   "id": "247eec7f",
   "metadata": {},
   "outputs": [
    {
     "name": "stderr",
     "output_type": "stream",
     "text": [
      "<ipython-input-55-7d3a83782d4d>:1: RuntimeWarning: Mean of empty slice\n",
      "  mean_sub_svm = np.nanmean(subject_data_svm, axis = 0)\n",
      "<ipython-input-55-7d3a83782d4d>:2: RuntimeWarning: Mean of empty slice\n",
      "  mean_sub_edi = np.nanmean(subject_data_edi, axis = 0)\n"
     ]
    }
   ],
   "source": [
    "mean_sub_svm = np.nanmean(subject_data_svm, axis = 0)\n",
    "mean_sub_edi = np.nanmean(subject_data_edi, axis = 0)\n",
    "conds = mean_sub_svm.shape[0]\n",
    "time = mean_sub_svm.shape[-1]\n",
    "\n",
    "vis_corr = np.full((conds, time),np.nan)\n",
    "txt_corr = np.full((conds, time),np.nan)\n",
    "vis_data = upper(vis_corr_mat)\n",
    "txt_data = upper(txt_corr_mat)\n",
    "\n",
    "for cond in range(conds):\n",
    "    for t in range(time):\n",
    "        \n",
    "        eeg_data = upper(mean_sub_edi[cond, :, :, t])\n",
    "        vis_corr[cond, t] = stats.spearmanr(eeg_data, vis_data)[0]\n",
    "        txt_corr[cond, t] = stats.spearmanr(eeg_data, txt_data)[0]\n"
   ]
  },
  {
   "cell_type": "code",
   "execution_count": null,
   "id": "2a63b44c",
   "metadata": {},
   "outputs": [],
   "source": []
  },
  {
   "cell_type": "code",
   "execution_count": 60,
   "id": "91325ccd",
   "metadata": {},
   "outputs": [
    {
     "data": {
      "text/plain": [
       "[<matplotlib.lines.Line2D at 0x7f5ba0e56ad0>]"
      ]
     },
     "execution_count": 60,
     "metadata": {},
     "output_type": "execute_result"
    },
    {
     "data": {
      "image/png": "[encoded data removed]",
      "text/plain": [
       "<Figure size 432x288 with 1 Axes>"
      ]
     },
     "metadata": {
      "needs_background": "light"
     },
     "output_type": "display_data"
    }
   ],
   "source": [
    "import matplotlib.pyplot as plt\n",
    "plt.plot(vis_corr[])"
   ]
  },
  {
   "cell_type": "code",
   "execution_count": 61,
   "id": "120bfc5d",
   "metadata": {},
   "outputs": [
    {
     "data": {
      "text/plain": [
       "array([11.2654035 , 11.26607396, 11.26688129, 11.26709523, 11.26666423,\n",
       "       11.26625728])"
      ]
     },
     "execution_count": 61,
     "metadata": {},
     "output_type": "execute_result"
    }
   ],
   "source": [
    "eeg_data"
   ]
  },
  {
   "cell_type": "code",
   "execution_count": null,
   "id": "b9fabbaf",
   "metadata": {},
   "outputs": [],
   "source": []
  }
 ],
 "metadata": {
  "kernelspec": {
   "display_name": "Python 3",
   "language": "python",
   "name": "python3"
  },
  "language_info": {
   "codemirror_mode": {
    "name": "ipython",
    "version": 3
   },
   "file_extension": ".py",
   "mimetype": "text/x-python",
   "name": "python",
   "nbconvert_exporter": "python",
   "pygments_lexer": "ipython3",
   "version": "3.11.5"
  }
 },
 "nbformat": 4,
 "nbformat_minor": 5
}
