{
 "cells": [
  {
   "cell_type": "code",
   "execution_count": 2,
   "id": "e9ddd949",
   "metadata": {},
   "outputs": [],
   "source": [
    "import numpy as np\n",
    "import pandas as pd\n",
    "import pickle \n",
    "\n",
    "from tqdm.notebook import tqdm\n",
    "from scipy.spatial.distance import cdist\n",
    "\n",
    "from itertools import combinations\n",
    "\n",
    "def load_data(file):\n",
    "    print('loading file: ' + file)\n",
    "    with open(file, 'rb') as f:\n",
    "        data = pickle.load(f)\n",
    "\n",
    "    return(data)\n",
    "\n",
    "def dump_data(data, filename):\n",
    "    print('writing file: ' + filename)\n",
    "    with open(filename, 'wb') as f:\n",
    "        pickle.dump(data, f, pickle.HIGHEST_PROTOCOL)\n",
    "        \n",
    "def average_across_points(dat, window_size=10):\n",
    "    dshape = dat['eeg'].shape\n",
    "\n",
    "    new_length = dshape[-1] // window_size\n",
    "    eeg_reshaped = dat['eeg'][:, :, :new_length * window_size].reshape(dshape[0], dshape[1], new_length, window_size)\n",
    "    dat['eeg'] = eeg_reshaped.mean(axis=-1)\n",
    "    dat['time'] = dat['time'][:new_length * window_size].reshape(new_length, window_size).mean(axis=-1)\n",
    "    \n",
    "    return dat\n",
    "\n",
    "def separate_odd_even(indices):\n",
    "    odd_numbers = []\n",
    "    even_numbers = []\n",
    "\n",
    "    for index in indices:\n",
    "      \n",
    "        if index % 2 == 0:\n",
    "            even_numbers.append(index)\n",
    "        else:\n",
    "            odd_numbers.append(index)\n",
    "\n",
    "    return np.array(odd_numbers), np.array(even_numbers)\n",
    "\n",
    "def upper(df):\n",
    "\n",
    "    try:\n",
    "        assert(type(df)==np.ndarray)\n",
    "    except:\n",
    "        if type(df)==pd.DataFrame:\n",
    "            df = df.values\n",
    "        else:\n",
    "            raise TypeError('Must be np.ndarray or pd.DataFrame')\n",
    "    mask = np.triu_indices(df.shape[0], k=1)\n",
    "    return df[mask]"
   ]
  },
  {
   "cell_type": "code",
   "execution_count": 6,
   "id": "359578d0",
   "metadata": {},
   "outputs": [
    {
     "name": "stdout",
     "output_type": "stream",
     "text": [
      "fix_det\n",
      "loading file: /projects/crunchie/boyanova/EEG_Things/eeg_experiment/eeg_epoched/eeg_things_0001_fix.pickle\n"
     ]
    },
    {
     "data": {
      "application/vnd.jupyter.widget-view+json": {
       "model_id": "060cf4ae92014f85bf2c9f6456360365",
       "version_major": 2,
       "version_minor": 0
      },
      "text/plain": [
       "  0%|          | 0/10 [00:00<?, ?it/s]"
      ]
     },
     "metadata": {},
     "output_type": "display_data"
    },
    {
     "data": {
      "application/vnd.jupyter.widget-view+json": {
       "model_id": "7c121899066b4227828f1c10ff4b7f0f",
       "version_major": 2,
       "version_minor": 0
      },
      "text/plain": [
       "  0%|          | 0/10 [00:00<?, ?it/s]"
      ]
     },
     "metadata": {},
     "output_type": "display_data"
    },
    {
     "data": {
      "application/vnd.jupyter.widget-view+json": {
       "model_id": "6f338004f1b74785b7055c8bc286308b",
       "version_major": 2,
       "version_minor": 0
      },
      "text/plain": [
       "  0%|          | 0/10 [00:00<?, ?it/s]"
      ]
     },
     "metadata": {},
     "output_type": "display_data"
    },
    {
     "data": {
      "application/vnd.jupyter.widget-view+json": {
       "model_id": "67e78312aa3f481b8f766cb3e5cab947",
       "version_major": 2,
       "version_minor": 0
      },
      "text/plain": [
       "  0%|          | 0/10 [00:00<?, ?it/s]"
      ]
     },
     "metadata": {},
     "output_type": "display_data"
    },
    {
     "name": "stdout",
     "output_type": "stream",
     "text": [
      "img_det\n",
      "loading file: /projects/crunchie/boyanova/EEG_Things/eeg_experiment/eeg_epoched/eeg_things_0001_img.pickle\n"
     ]
    },
    {
     "data": {
      "application/vnd.jupyter.widget-view+json": {
       "model_id": "928ece85a3324ea79c668750c5900168",
       "version_major": 2,
       "version_minor": 0
      },
      "text/plain": [
       "  0%|          | 0/10 [00:00<?, ?it/s]"
      ]
     },
     "metadata": {},
     "output_type": "display_data"
    },
    {
     "data": {
      "application/vnd.jupyter.widget-view+json": {
       "model_id": "681a5d30021f4af48da410826aa18a37",
       "version_major": 2,
       "version_minor": 0
      },
      "text/plain": [
       "  0%|          | 0/10 [00:00<?, ?it/s]"
      ]
     },
     "metadata": {},
     "output_type": "display_data"
    },
    {
     "data": {
      "application/vnd.jupyter.widget-view+json": {
       "model_id": "8c6c823565814545b415c5397af2780f",
       "version_major": 2,
       "version_minor": 0
      },
      "text/plain": [
       "  0%|          | 0/10 [00:00<?, ?it/s]"
      ]
     },
     "metadata": {},
     "output_type": "display_data"
    },
    {
     "data": {
      "application/vnd.jupyter.widget-view+json": {
       "model_id": "dd696f391dcd4414a29c42cd13796eb9",
       "version_major": 2,
       "version_minor": 0
      },
      "text/plain": [
       "  0%|          | 0/10 [00:00<?, ?it/s]"
      ]
     },
     "metadata": {},
     "output_type": "display_data"
    },
    {
     "name": "stdout",
     "output_type": "stream",
     "text": [
      "writing file: /projects/crunchie/boyanova/EEG_Things/eeg_experiment/eeg_decoding/eeg_mahlanobis_sequences_combined_0001.pickle\n"
     ]
    }
   ],
   "source": [
    "sub = 1\n",
    "conditions_1 = [\"fix\", \"img\"]\n",
    "conditions_2 = [\"det\"]\n",
    "subsample_factor = 10\n",
    "testsize = 0.2\n",
    "trial_num = 5\n",
    "img_nperms = 10\n",
    "trial_lim = 150\n",
    "\n",
    "edi_data = {}\n",
    "for sub in [1]:\n",
    "    for cond in conditions_1:\n",
    "        for cond2 in conditions_2:\n",
    "            cond_name = \"{}_{}\".format(cond, cond2)\n",
    "            edi_data[cond_name] = {}\n",
    "\n",
    "            print(cond_name)\n",
    "            dat_name = \"/projects/crunchie/boyanova/EEG_Things/eeg_experiment/eeg_epoched/eeg_things_{:04d}_{}.pickle\".format(sub, cond)\n",
    "            dat = load_data(dat_name)\n",
    "\n",
    "            ### Subsample data\n",
    "            #dat = subsample_data(dat, 10)\n",
    "            dat = average_across_points(dat, window_size=10)\n",
    "\n",
    "            ### Button press mask\n",
    "            bt_press = dat[\"button_press_mask\"]\n",
    "            dat[\"eeg\"] = dat[\"eeg\"][~bt_press]\n",
    "            dat[\"ids\"] = dat[\"ids\"][~bt_press]\n",
    "            dat[\"block_num\"] =  dat[\"block_num\"][~bt_press]\n",
    "\n",
    "            ### Select condition \n",
    "            image_labels = [1,2,3,4]\n",
    "            mask = np.isin(dat[\"ids\"], image_labels)\n",
    "\n",
    "            eeg_ = dat[\"eeg\"][mask]\n",
    "            ids_ = dat[\"ids\"][mask]\n",
    "            block_num_ =  dat[\"block_num\"][mask]\n",
    "            combinations_of_3 = [(0,1,2), (3,4,5), (0,2,4), (1,3,5)]\n",
    "\n",
    "            for comb in combinations_of_3:\n",
    "\n",
    "                pick_block_eeg = eeg_[np.isin(block_num_, list(comb)), :, :]\n",
    "                pick_block_ids = ids_[np.isin(block_num_, list(comb))]\n",
    "\n",
    "                ### Get vars\n",
    "                n_conditions = len(image_labels)\n",
    "                n_sensors = pick_block_eeg.shape[1]\n",
    "                n_time = pick_block_eeg.shape[-1]\n",
    "\n",
    "                # DA matrix \n",
    "                TG = np.full((n_conditions, n_conditions, n_time), np.nan)\n",
    "                # DA matrix \n",
    "                TG = np.full((n_conditions, n_conditions, n_time), np.nan)\n",
    "\n",
    "                ### Randomly pick 50 trials per conditoin  \n",
    "                eeg_svm = np.full((len((np.unique(ids_))), trial_lim, eeg_.shape[1], eeg_.shape[2]), np.nan)\n",
    "                for p in tqdm(range(img_nperms)):\n",
    "                    for idx, x in enumerate(np.unique(ids_)):\n",
    "                        total_num_trials = len(pick_block_ids[pick_block_ids == x])\n",
    "\n",
    "                        # Define the range\n",
    "                        range_array = np.arange(0, total_num_trials)\n",
    "\n",
    "                        # Pick x random idx without repetition\n",
    "                        random_numbers = np.random.choice(range_array, trial_lim, replace=False)\n",
    "\n",
    "                        # Select\n",
    "                        eeg_svm[idx, :, :, :] = pick_block_eeg[pick_block_ids == x][random_numbers, :, :]\n",
    "\n",
    "                    odd, even = separate_odd_even(np.arange(0, trial_lim))\n",
    "                    eeg_odd = eeg_svm[:, odd, :, :] \n",
    "                    eeg_even = eeg_svm[:, even, :, :]\n",
    "\n",
    "                    ### calculate RDMs - Mahlanobis distance\n",
    "                    for cA in range(n_conditions):\n",
    "                        for cB in range(cA, n_conditions):\n",
    "                            for t in range(n_time):\n",
    "                                cA_values = eeg_odd[cA,:,:,t]\n",
    "                                cB_values = eeg_even[cB,:,:,t]\n",
    "\n",
    "                                mah_dist = np.mean(cdist(cA_values, cB_values, 'mahalanobis'))\n",
    "                                TG[cA,cB,t] = np.nansum(np.array((TG[cA,cB,t], mah_dist)))\n",
    "                TG = TG / img_nperms\n",
    "                edi_data[cond_name][comb] = TG\n",
    "\n",
    "    dump_data(edi_data, \"/projects/crunchie/boyanova/EEG_Things/eeg_experiment/eeg_decoding/eeg_mahlanobis_sequences_combined_{:04d}.pickle\".format(sub))"
   ]
  }
 ],
 "metadata": {
  "kernelspec": {
   "display_name": "Python 3",
   "language": "python",
   "name": "python3"
  },
  "language_info": {
   "codemirror_mode": {
    "name": "ipython",
    "version": 3
   },
   "file_extension": ".py",
   "mimetype": "text/x-python",
   "name": "python",
   "nbconvert_exporter": "python",
   "pygments_lexer": "ipython3",
   "version": "3.11.5"
  }
 },
 "nbformat": 4,
 "nbformat_minor": 5
}
