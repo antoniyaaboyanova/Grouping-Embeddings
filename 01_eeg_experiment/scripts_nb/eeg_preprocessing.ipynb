{
 "cells": [
  {
   "cell_type": "code",
   "execution_count": 61,
   "id": "38e84c3a",
   "metadata": {},
   "outputs": [],
   "source": [
    "import mne\n",
    "import os\n",
    "import pandas as pd\n",
    "import numpy as np\n",
    "import pickle\n",
    "from tqdm import tqdm"
   ]
  },
  {
   "cell_type": "code",
   "execution_count": 11,
   "id": "d8364721",
   "metadata": {},
   "outputs": [],
   "source": [
    "def dump_data(data, filename):\n",
    "    print('writing file: ' + filename)\n",
    "    with open(filename, 'wb') as f:\n",
    "        pickle.dump(data, f, pickle.HIGHEST_PROTOCOL)"
   ]
  },
  {
   "cell_type": "markdown",
   "id": "d2033ecf",
   "metadata": {},
   "source": [
    "### Pickle files "
   ]
  },
  {
   "cell_type": "code",
   "execution_count": 65,
   "id": "f601ed36",
   "metadata": {},
   "outputs": [
    {
     "name": "stdout",
     "output_type": "stream",
     "text": [
      "Extracting parameters from /projects/crunchie/boyanova/EEG_Things/eeg_experiment/eeg_raw/sub05/eeg_things_img_0005.vhdr...\n",
      "Setting channel info structure...\n",
      "Reading 0 ... 1809979  =      0.000 ...  1809.979 secs...\n",
      "Filtering raw data in 1 contiguous segment\n",
      "Setting up low-pass filter at 40 Hz\n",
      "\n",
      "FIR filter parameters\n",
      "---------------------\n",
      "Designing a one-pass, zero-phase, non-causal lowpass filter:\n",
      "- Windowed time-domain design (firwin) method\n",
      "- Hamming window with 0.0194 passband ripple and 53 dB stopband attenuation\n",
      "- Upper passband edge: 40.00 Hz\n",
      "- Upper transition bandwidth: 10.00 Hz (-6 dB cutoff frequency: 45.00 Hz)\n",
      "- Filter length: 331 samples (0.331 s)\n",
      "\n"
     ]
    },
    {
     "name": "stderr",
     "output_type": "stream",
     "text": [
      "[Parallel(n_jobs=1)]: Using backend SequentialBackend with 1 concurrent workers.\n",
      "[Parallel(n_jobs=1)]: Done   1 out of   1 | elapsed:    0.0s remaining:    0.0s\n",
      "[Parallel(n_jobs=1)]: Done   2 out of   2 | elapsed:    0.1s remaining:    0.0s\n",
      "[Parallel(n_jobs=1)]: Done   3 out of   3 | elapsed:    0.1s remaining:    0.0s\n",
      "[Parallel(n_jobs=1)]: Done   4 out of   4 | elapsed:    0.2s remaining:    0.0s\n"
     ]
    },
    {
     "name": "stdout",
     "output_type": "stream",
     "text": [
      "Used Annotations descriptions: ['Comment/ControlBox is not connected via USB', 'New Segment/', 'Stimulus/S  1', 'Stimulus/S  2', 'Stimulus/S  3', 'Stimulus/S  4', 'Stimulus/S 11', 'Stimulus/S 12', 'Stimulus/S 13', 'Stimulus/S 14', 'Stimulus/S 15', 'Stimulus/S201', 'Stimulus/S202', 'Stimulus/S203', 'Stimulus/S204', 'Stimulus/S211', 'Stimulus/S212', 'Stimulus/S213', 'Stimulus/S214']\n",
      "Not setting metadata\n",
      "1440 matching events found\n",
      "Setting baseline interval to [-0.2, 0.0] s\n",
      "Applying baseline correction (mode: mean)\n",
      "0 projection items activated\n",
      "Using data from preloaded Raw for 1440 events and 901 original time points ...\n"
     ]
    },
    {
     "name": "stderr",
     "output_type": "stream",
     "text": [
      "[Parallel(n_jobs=1)]: Done  64 out of  64 | elapsed:    2.7s finished\n"
     ]
    },
    {
     "name": "stdout",
     "output_type": "stream",
     "text": [
      "0 bad epochs dropped\n",
      "writing file: /projects/crunchie/boyanova/EEG_Things/eeg_experiment/eeg_epoched/eeg_things_0005_img.pickle\n"
     ]
    }
   ],
   "source": [
    "sub = 5\n",
    "cond = \"img\" #\"fix\"\n",
    "highpass = None\n",
    "lowpass = 40\n",
    "trialwin = [-.2, .7]\n",
    "\n",
    "# Paths\n",
    "vhdr_file = f'/projects/crunchie/boyanova/EEG_Things/eeg_experiment/eeg_raw/sub{sub:02d}/eeg_things_{cond}_{sub:04d}.vhdr'\n",
    "beh_file = pd.read_csv(f'/projects/crunchie/boyanova/EEG_Things/eeg_experiment/beh/sub{sub:02d}/{sub}_eeg_exp_{cond}.csv')\n",
    "\n",
    "# Load the raw data\n",
    "raw = mne.io.read_raw_brainvision(vhdr_file, preload=True)\n",
    "\n",
    "# Filter\n",
    "eeg_picks = mne.pick_types(raw.info, eeg=True)\n",
    "raw = raw.copy().filter(l_freq=highpass,\n",
    "                        h_freq=lowpass,\n",
    "                        picks=eeg_picks)\n",
    "\n",
    "# Get events from eeg\n",
    "events, events_id = mne.events_from_annotations(raw)\n",
    "events  = events[2:, :]\n",
    "allowed_events = np.array([1, 2, 3, 4, 11, 12, 13, 14, 201, 202, 203, 204, 211, 212, 213, 214]) \n",
    "events_filtered = events[np.isin(events[:, 2], allowed_events)]\n",
    "\n",
    "\n",
    "# Get epochs\n",
    "epochs = mne.Epochs(raw, events_filtered, tmin=trialwin[0],\n",
    "                    tmax=trialwin[1], picks='eeg',\n",
    "                    baseline=(None, 0), preload=True,\n",
    "                    reject=None)\n",
    "\n",
    "\n",
    "# Get data: I need to calculate which trials to remove\n",
    "dat = {\"eeg\": epochs.get_data(),\n",
    "       \"time\": epochs.times,\n",
    "       \"ids\": events_filtered[:, 2],\n",
    "       \"channels\": epochs.ch_names,\n",
    "       \"button_press_mask\": np.isin(beh_file['key_resp_3.keys'].values[0:-1], 'space'),\n",
    "       \"block_type\": beh_file['block_type'].values[0:-1] ,\n",
    "       \"block_num\": np.array([int(x.split(\"_\")[-1].split(\".\")[0]) for x in beh_file['block_name'].values[0:-1]])}\n",
    "\n",
    "dat_name = \"/projects/crunchie/boyanova/EEG_Things/eeg_experiment/eeg_epoched/eeg_things_{:04d}_{}.pickle\".format(sub, cond)\n",
    "dump_data(dat, dat_name)\n",
    "\n"
   ]
  },
  {
   "cell_type": "markdown",
   "id": "1ca01c3c",
   "metadata": {},
   "source": [
    "### Checking extra events"
   ]
  },
  {
   "cell_type": "code",
   "execution_count": 49,
   "id": "a9161c4e",
   "metadata": {},
   "outputs": [
    {
     "name": "stdout",
     "output_type": "stream",
     "text": [
      "Extra events: {15}\n",
      "Indices of the extra event (15): [0]\n"
     ]
    }
   ],
   "source": [
    "# Get unique event codes from EEG\n",
    "eeg_event_codes = set(events[:, 2])\n",
    "\n",
    "# Get unique event codes from behavior\n",
    "beh_event_codes = set(beh_file['trig'][0:-1])  # Replace with actual column name\n",
    "\n",
    "# Find the extra event code\n",
    "extra_events = eeg_event_codes - beh_event_codes\n",
    "print(f\"Extra events: {extra_events}\")\n",
    "\n",
    "# If there are extra events, find their indices\n",
    "if extra_events:\n",
    "    extra_event_code = list(extra_events)[0]  # Assuming one extra event\n",
    "    extra_event_indices = [i for i, event in enumerate(events) if event[2] == extra_event_code]\n",
    "    print(f\"Indices of the extra event ({extra_event_code}): {extra_event_indices}\")\n",
    "else:\n",
    "    print(\"No extra events found.\")\n"
   ]
  },
  {
   "cell_type": "markdown",
   "id": "d09755e2",
   "metadata": {},
   "source": [
    "### Renaming eeg files"
   ]
  },
  {
   "cell_type": "code",
   "execution_count": 4,
   "id": "be3dfda9",
   "metadata": {},
   "outputs": [
    {
     "name": "stdout",
     "output_type": "stream",
     "text": [
      "Created \"eeg_things_fix_0000.eeg\" in \"/projects/crunchie/boyanova/EEG_Things/eeg_experiment/eeg_raw/sub0\".\n",
      "Created \"eeg_things_fix_0000.vhdr\" in \"/projects/crunchie/boyanova/EEG_Things/eeg_experiment/eeg_raw/sub0\".\n",
      "Created \"eeg_things_fix_0000.vmrk\" in \"/projects/crunchie/boyanova/EEG_Things/eeg_experiment/eeg_raw/sub0\".\n",
      "Extracting parameters from /projects/crunchie/boyanova/EEG_Things/eeg_experiment/eeg_raw/sub0_fix/eeg_things_img_0000.vhdr...\n",
      "Setting channel info structure...\n",
      "Extracting parameters from /projects/crunchie/boyanova/EEG_Things/eeg_experiment/eeg_raw/sub0/eeg_things_fix_0000.vhdr...\n",
      "Setting channel info structure...\n"
     ]
    }
   ],
   "source": [
    "from mne_bids.copyfiles import copyfile_brainvision\n",
    "import mne\n",
    "# Rename the file\n",
    "sub = 0\n",
    "vhdr_file_path_orig = '/projects/crunchie/boyanova/EEG_Things/eeg_experiment/eeg_raw/sub0_fix/eeg_things_{}_{:04d}.vhdr'.format(\"img\", sub)\n",
    "\n",
    "vhdr_file_renamed ='/projects/crunchie/boyanova/EEG_Things/eeg_experiment/eeg_raw/sub0/eeg_things_{}_{:04d}.vhdr'.format(\"fix\", sub)\n",
    "copyfile_brainvision(vhdr_file_path_orig, vhdr_file_renamed, verbose=True)\n",
    "\n",
    "# Check that MNE-Python can read in both, the original as well as the renamed\n",
    "# data (two files: their contents are the same apart from the name)\n",
    "raw = mne.io.read_raw_brainvision(vhdr_file_path_orig)\n",
    "raw_renamed = mne.io.read_raw_brainvision(vhdr_file_renamed)"
   ]
  },
  {
   "cell_type": "markdown",
   "id": "bec6969c",
   "metadata": {},
   "source": [
    "### Concatenating pickles"
   ]
  },
  {
   "cell_type": "code",
   "execution_count": 36,
   "id": "838fe80a",
   "metadata": {},
   "outputs": [
    {
     "name": "stdout",
     "output_type": "stream",
     "text": [
      "Concatenating eeg_things_0001_fix.pickle and eeg_things_0001_fix_2.pickle\n",
      "loading file: /projects/crunchie/boyanova/EEG_Things/eeg_experiment/eeg_epoched/fix_combine/eeg_things_0001_fix.pickle\n",
      "loading file: /projects/crunchie/boyanova/EEG_Things/eeg_experiment/eeg_epoched/fix_combine/eeg_things_0001_fix_2.pickle\n",
      "writing file: /projects/crunchie/boyanova/EEG_Things/eeg_experiment/eeg_epoched/eeg_things_0001_fix.pickle\n"
     ]
    }
   ],
   "source": [
    "import os\n",
    "import pickle\n",
    "import numpy as np\n",
    "\n",
    "path = \"/projects/crunchie/boyanova/EEG_Things/eeg_experiment/eeg_epoched/fix_combine/\"\n",
    "files = os.listdir(path)\n",
    "\n",
    "def load_data(file):\n",
    "    print('loading file: ' + file)\n",
    "    with open(file, 'rb') as f:\n",
    "        data = pickle.load(f)\n",
    "    return data\n",
    "\n",
    "# Updated helper function to concatenate two dictionaries with np.arrays,\n",
    "# keeping \"channels\" and \"time\" from the first dictionary only\n",
    "def concatenate_dicts(dict1, dict2):\n",
    "    combined_dict = {}\n",
    "    for key in dict1:\n",
    "        if key in [\"channels\", \"time\"]:\n",
    "            combined_dict[key] = dict1[key]\n",
    "        else:\n",
    "            combined_dict[key] = np.concatenate((dict1[key], dict2[key]), axis=0)\n",
    "    return combined_dict\n",
    "\n",
    "\n",
    "concatenated_data = {}\n",
    "for file in files:\n",
    "    # Check if file ends in '_fix.pickle' and has a corresponding '_fix_2.pickle'\n",
    "    if file.endswith('_fix.pickle'):\n",
    "        file_2 = file.replace('_fix.pickle', '_fix_2.pickle')\n",
    "        \n",
    "        if file_2 in files:\n",
    "            print(f\"Concatenating {file} and {file_2}\")\n",
    "            \n",
    "            # Load both dictionaries\n",
    "            data1 = load_data(os.path.join(path, file))\n",
    "            data2 = load_data(os.path.join(path, file_2))\n",
    "            \n",
    "            combined_data = concatenate_dicts(data1, data2)\n",
    "            concatenated_data = combined_data\n",
    "\n",
    "dat_name = \"/projects/crunchie/boyanova/EEG_Things/eeg_experiment/eeg_epoched/eeg_things_{:04d}_{}.pickle\".format(sub, cond)\n",
    "dump_data(concatenated_data, dat_name)\n"
   ]
  },
  {
   "cell_type": "code",
   "execution_count": 37,
   "id": "fc9fe041",
   "metadata": {},
   "outputs": [
    {
     "data": {
      "text/plain": [
       "(2880,)"
      ]
     },
     "execution_count": 37,
     "metadata": {},
     "output_type": "execute_result"
    }
   ],
   "source": [
    "concatenated_data['button_press_mask'].shape"
   ]
  }
 ],
 "metadata": {
  "kernelspec": {
   "display_name": "Python 3",
   "language": "python",
   "name": "python3"
  },
  "language_info": {
   "codemirror_mode": {
    "name": "ipython",
    "version": 3
   },
   "file_extension": ".py",
   "mimetype": "text/x-python",
   "name": "python",
   "nbconvert_exporter": "python",
   "pygments_lexer": "ipython3",
   "version": "3.11.5"
  }
 },
 "nbformat": 4,
 "nbformat_minor": 5
}
