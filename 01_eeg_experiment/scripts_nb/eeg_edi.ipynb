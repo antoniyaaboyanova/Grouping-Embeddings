{
 "cells": [
  {
   "cell_type": "code",
   "execution_count": 1,
   "id": "97e0c8b4",
   "metadata": {},
   "outputs": [],
   "source": [
    "import numpy as np\n",
    "import pandas as pd\n",
    "import pickle \n",
    "\n",
    "from tqdm.notebook import tqdm\n",
    "from scipy.spatial.distance import cdist\n",
    "\n",
    "def load_data(file):\n",
    "    print('loading file: ' + file)\n",
    "    with open(file, 'rb') as f:\n",
    "        data = pickle.load(f)\n",
    "\n",
    "    return(data)\n",
    "\n",
    "def dump_data(data, filename):\n",
    "    print('writing file: ' + filename)\n",
    "    with open(filename, 'wb') as f:\n",
    "        pickle.dump(data, f, pickle.HIGHEST_PROTOCOL)\n",
    "        \n",
    "def average_across_points(dat, window_size=10):\n",
    "    dshape = dat['eeg'].shape\n",
    "\n",
    "    new_length = dshape[-1] // window_size\n",
    "    eeg_reshaped = dat['eeg'][:, :, :new_length * window_size].reshape(dshape[0], dshape[1], new_length, window_size)\n",
    "    dat['eeg'] = eeg_reshaped.mean(axis=-1)\n",
    "    dat['time'] = dat['time'][:new_length * window_size].reshape(new_length, window_size).mean(axis=-1)\n",
    "    \n",
    "    return dat\n",
    "\n",
    "def separate_odd_even(indices):\n",
    "    odd_numbers = []\n",
    "    even_numbers = []\n",
    "\n",
    "    for index in indices:\n",
    "      \n",
    "        if index % 2 == 0:\n",
    "            even_numbers.append(index)\n",
    "        else:\n",
    "            odd_numbers.append(index)\n",
    "\n",
    "    return np.array(odd_numbers), np.array(even_numbers)\n",
    "\n",
    "def upper(df):\n",
    "\n",
    "    try:\n",
    "        assert(type(df)==np.ndarray)\n",
    "    except:\n",
    "        if type(df)==pd.DataFrame:\n",
    "            df = df.values\n",
    "        else:\n",
    "            raise TypeError('Must be np.ndarray or pd.DataFrame')\n",
    "    mask = np.triu_indices(df.shape[0], k=1)\n",
    "    return df[mask]"
   ]
  },
  {
   "cell_type": "code",
   "execution_count": 9,
   "id": "bd137969",
   "metadata": {},
   "outputs": [
    {
     "name": "stdout",
     "output_type": "stream",
     "text": [
      "loading file: /projects/crunchie/boyanova/EEG_Things/eeg_experiment/eeg_epoched/eeg_things_0009_img.pickle\n"
     ]
    },
    {
     "data": {
      "application/vnd.jupyter.widget-view+json": {
       "model_id": "0cb06e8a8a3f4116906f454bd500789e",
       "version_major": 2,
       "version_minor": 0
      },
      "text/plain": [
       "  0%|          | 0/20 [00:00<?, ?it/s]"
      ]
     },
     "metadata": {},
     "output_type": "display_data"
    },
    {
     "name": "stdout",
     "output_type": "stream",
     "text": [
      "loading file: /projects/crunchie/boyanova/EEG_Things/eeg_experiment/eeg_epoched/eeg_things_0009_img.pickle\n"
     ]
    },
    {
     "data": {
      "application/vnd.jupyter.widget-view+json": {
       "model_id": "4507a66246314ec18d5858de306abaa9",
       "version_major": 2,
       "version_minor": 0
      },
      "text/plain": [
       "  0%|          | 0/20 [00:00<?, ?it/s]"
      ]
     },
     "metadata": {},
     "output_type": "display_data"
    },
    {
     "name": "stdout",
     "output_type": "stream",
     "text": [
      "loading file: /projects/crunchie/boyanova/EEG_Things/eeg_experiment/eeg_epoched/eeg_things_0009_fix.pickle\n"
     ]
    },
    {
     "data": {
      "application/vnd.jupyter.widget-view+json": {
       "model_id": "64ca10b0eb1241e79fa4edea2e8df6c6",
       "version_major": 2,
       "version_minor": 0
      },
      "text/plain": [
       "  0%|          | 0/20 [00:00<?, ?it/s]"
      ]
     },
     "metadata": {},
     "output_type": "display_data"
    },
    {
     "name": "stdout",
     "output_type": "stream",
     "text": [
      "loading file: /projects/crunchie/boyanova/EEG_Things/eeg_experiment/eeg_epoched/eeg_things_0009_fix.pickle\n"
     ]
    },
    {
     "data": {
      "application/vnd.jupyter.widget-view+json": {
       "model_id": "617995564f994817ab06c603b0ee7384",
       "version_major": 2,
       "version_minor": 0
      },
      "text/plain": [
       "  0%|          | 0/20 [00:00<?, ?it/s]"
      ]
     },
     "metadata": {},
     "output_type": "display_data"
    },
    {
     "name": "stdout",
     "output_type": "stream",
     "text": [
      "writing file: /projects/crunchie/boyanova/EEG_Things/eeg_experiment/eeg_decoding/eeg_mahlanobis_0009.pickle\n"
     ]
    }
   ],
   "source": [
    "### Load Data\n",
    "sub = 9\n",
    "conditions_1 = [\"img\", \"fix\"]\n",
    "conditions_2 = [\"det\", \"rand\"]\n",
    "\n",
    "\n",
    "trial_num = 12\n",
    "img_nperms = 20\n",
    "trial_lim = 110\n",
    "\n",
    "edi_data = {}\n",
    "for cond in conditions_1:\n",
    "    for cond2 in conditions_2: \n",
    "        cond_name = \"{}_{}\".format(cond, cond2)\n",
    "        edi_data[cond_name] = []\n",
    "\n",
    "        ### Subsample data\n",
    "        dat_name = \"/projects/crunchie/boyanova/EEG_Things/eeg_experiment/eeg_epoched/eeg_things_{:04d}_{}.pickle\".format(sub, cond)\n",
    "        dat = load_data(dat_name)\n",
    "        dat = average_across_points(dat, window_size=10)\n",
    "        \n",
    "        ### Button press mask\n",
    "        bt_press = dat[\"button_press_mask\"]\n",
    "        dat[\"eeg\"] = dat[\"eeg\"][~bt_press]\n",
    "        dat[\"ids\"] = dat[\"ids\"][~bt_press]\n",
    "\n",
    "        ### Select condition \n",
    "        image_labels = [1,2,3,4]\n",
    "        if cond2 == \"rand\":\n",
    "            image_labels = [im + 10 for im in image_labels]\n",
    "\n",
    "        mask = np.isin(dat[\"ids\"], image_labels)\n",
    "\n",
    "        eeg_ = dat[\"eeg\"][mask]\n",
    "        ids_ = dat[\"ids\"][mask]\n",
    "\n",
    "        ### Select condition \n",
    "        image_labels = [1,2,3,4]\n",
    "        if cond2 == \"rand\":\n",
    "            image_labels = [im + 10 for im in image_labels]\n",
    "\n",
    "        mask = np.isin(dat[\"ids\"], image_labels)\n",
    "\n",
    "        eeg_ = dat[\"eeg\"][mask]\n",
    "        ids_ = dat[\"ids\"][mask]\n",
    "\n",
    "        ### Get vars\n",
    "        n_conditions = len(image_labels)\n",
    "        n_sensors = eeg_.shape[1]\n",
    "        n_time = eeg_.shape[-1]\n",
    "\n",
    "        # DA matrix \n",
    "        TG = np.full((n_conditions, n_conditions, n_time), np.nan)\n",
    "\n",
    "        ### Randomly pick 300 trials per conditoin  \n",
    "        eeg_svm = np.full((len((np.unique(ids_))), trial_lim, eeg_.shape[1], eeg_.shape[2]), np.nan)\n",
    "\n",
    "\n",
    "        for p in tqdm(range(img_nperms)):\n",
    "            for idx, x in enumerate(np.unique(ids_)):\n",
    "                total_num_trials = len(ids_[ids_ == x])\n",
    "\n",
    "                # Define the range\n",
    "                range_array = np.arange(0, total_num_trials)\n",
    "\n",
    "                # Pick x random idx without repetition\n",
    "                random_numbers = np.random.choice(range_array, trial_lim, replace=False)\n",
    "\n",
    "                # Select\n",
    "                eeg_svm[idx, :, :, :] = eeg_[ids_== x][random_numbers, :, :]\n",
    "\n",
    "            odd, even = separate_odd_even(np.arange(0, trial_lim))\n",
    "            eeg_odd = eeg_svm[:, odd, :, :] \n",
    "            eeg_even = eeg_svm[:, even, :, :]\n",
    "\n",
    "            ### calculate RDMs - Mahlanobis distance\n",
    "            for cA in range(n_conditions):\n",
    "                for cB in range(cA, n_conditions):\n",
    "                    for t in range(n_time):\n",
    "                        cA_values = eeg_odd[cA,:,:,t]\n",
    "                        cB_values = eeg_even[cB,:,:,t]\n",
    "\n",
    "                        mah_dist = np.mean(cdist(cA_values, cB_values, 'mahalanobis'))\n",
    "                        TG[cA,cB,t] = np.nansum(np.array((TG[cA,cB,t], mah_dist)))\n",
    "\n",
    "\n",
    "        TG = TG / img_nperms\n",
    "        edi_data[cond_name] = TG\n",
    "        \n",
    "\n",
    "dump_data(edi_data, \"/projects/crunchie/boyanova/EEG_Things/eeg_experiment/eeg_decoding/eeg_mahlanobis_{:04d}.pickle\".format(sub))"
   ]
  },
  {
   "cell_type": "code",
   "execution_count": 3,
   "id": "78682939",
   "metadata": {},
   "outputs": [
    {
     "data": {
      "text/plain": [
       "178"
      ]
     },
     "execution_count": 3,
     "metadata": {},
     "output_type": "execute_result"
    }
   ],
   "source": [
    "np.sum(bt_press)"
   ]
  },
  {
   "cell_type": "code",
   "execution_count": 11,
   "id": "cf78b3eb",
   "metadata": {},
   "outputs": [
    {
     "data": {
      "text/plain": [
       "<matplotlib.legend.Legend at 0x7f2d8deab150>"
      ]
     },
     "execution_count": 11,
     "metadata": {},
     "output_type": "execute_result"
    },
    {
     "data": {
      "image/png": "[encoded data removed]",
      "text/plain": [
       "<Figure size 432x288 with 1 Axes>"
      ]
     },
     "metadata": {
      "needs_background": "light"
     },
     "output_type": "display_data"
    }
   ],
   "source": [
    "import matplotlib.pyplot as plt\n",
    "for key in edi_data.keys():\n",
    "    edi_time = []\n",
    "    for t in range(n_time):\n",
    "        edi_time.append(np.mean(upper(edi_data[key][:, :, t])) - np.mean(np.diagonal(edi_data[key][:, :, t])))\n",
    "    plt.plot(dat[\"time\"], edi_time, label = key)\n",
    "\n",
    "plt.legend()"
   ]
  },
  {
   "cell_type": "code",
   "execution_count": null,
   "id": "ae0fd624",
   "metadata": {},
   "outputs": [],
   "source": []
  }
 ],
 "metadata": {
  "kernelspec": {
   "display_name": "Python 3",
   "language": "python",
   "name": "python3"
  },
  "language_info": {
   "codemirror_mode": {
    "name": "ipython",
    "version": 3
   },
   "file_extension": ".py",
   "mimetype": "text/x-python",
   "name": "python",
   "nbconvert_exporter": "python",
   "pygments_lexer": "ipython3",
   "version": "3.11.5"
  }
 },
 "nbformat": 4,
 "nbformat_minor": 5
}
