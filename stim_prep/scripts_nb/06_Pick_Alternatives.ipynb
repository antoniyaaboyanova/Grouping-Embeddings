{
 "cells": [
  {
   "cell_type": "code",
   "execution_count": 1,
   "id": "5a167afa",
   "metadata": {},
   "outputs": [],
   "source": [
    "import pandas as pd\n",
    "import numpy as np\n",
    "import os\n",
    "from tqdm.notebook import tqdm\n",
    "import pickle\n",
    "import image_embeddings\n",
    "import scipy.stats\n",
    "\n",
    "def load_data(file):\n",
    "    \n",
    "    print('loading file: ' + file)\n",
    "    with open(file, 'rb') as f:\n",
    "        data = pickle.load(f)\n",
    "\n",
    "    return(data)\n",
    "\n",
    "def find_cat(name_dict, cat):\n",
    "    keep = []\n",
    "    for key_id, key in enumerate(name_dict):  \n",
    "        if cat in key:\n",
    "            keep.append(key_id)\n",
    "        \n",
    "    return keep\n"
   ]
  },
  {
   "cell_type": "code",
   "execution_count": 3,
   "id": "b24ef432",
   "metadata": {},
   "outputs": [
    {
     "data": {
      "text/plain": [
       "['__builtins__',\n",
       " '__cached__',\n",
       " '__doc__',\n",
       " '__file__',\n",
       " '__loader__',\n",
       " '__name__',\n",
       " '__package__',\n",
       " '__path__',\n",
       " '__spec__']"
      ]
     },
     "execution_count": 3,
     "metadata": {},
     "output_type": "execute_result"
    }
   ],
   "source": [
    "dir(image_embeddings.cli)"
   ]
  },
  {
   "cell_type": "code",
   "execution_count": null,
   "id": "b057a8aa",
   "metadata": {},
   "outputs": [],
   "source": [
    "exp_desc = pd.read_csv(\"exp_stimuli_desc.csv\")\n",
    "\n",
    "#--- index images\n",
    "path_images = '/projects/crunchie/boyanova/EEG_Things/data_set/Images_all'\n",
    "path_embeddings = '/projects/crunchie/boyanova/EEG_Things/data_set/embeddings'\n",
    "[id_to_name, name_to_id, embeddings] = image_embeddings.knn.read_embeddings(path_embeddings)\n",
    "index = image_embeddings.knn.build_index(embeddings)\n",
    "topk = len(id_to_name)\n",
    "\n",
    "data_record = {\n",
    "              \"image_name\": [],\n",
    "              \"image_ID\": [],\n",
    "              \"cond\": [],\n",
    "               \"image_category\":[],\n",
    "              \"image_path\": []}\n",
    "\n",
    "\n",
    "extension = '{}.jpg'\n",
    "image_paths = exp_desc[\"stimuli_paths\"].values\n",
    "image_vector = [x.split(\"/\")[-1][0:-4] for x in image_paths]\n",
    "\n",
    "for ax_id, i in enumerate(image_vector):\n",
    "    im_pt = os.path.join(path_images, extension.format(i))\n",
    "\n",
    "    data_record[\"image_name\"].append(extension.format(i))\n",
    "    data_record[\"image_ID\"].append(ax_id)\n",
    "    data_record[\"image_path\"].append(os.path.join(path_images, extension.format(i)))\n",
    "    data_record[\"image_category\"].append(i[0:-4])\n",
    "    data_record[\"cond\"].append(\"main\")\n",
    "\n",
    "    all_i_idx = find_cat(name_to_id, i[0:-3])\n",
    "    alt_imgs = [id_to_name[x] for x in all_i_idx if id_to_name[x]]\n",
    "    alt_emb = embeddings[all_i_idx]\n",
    "    alt_index = image_embeddings.knn.build_index(alt_emb)\n",
    "    alt_id_to_name = {key: value for key, value in id_to_name.items() if value in alt_imgs}\n",
    "    alt_name_to_id = {key: name_to_id[key] for key in alt_imgs if key in name_to_id}\n",
    "    new_keys = np.arange(0, len(alt_imgs))\n",
    "    updated_dict = {new_keys[i]: value for i, (_, value) in enumerate(alt_id_to_name.items())}\n",
    "\n",
    "    target_idx = find_cat(alt_name_to_id, i)\n",
    "\n",
    "    alt_results = image_embeddings.knn.search(alt_index, updated_dict, alt_emb[target_idx][0], k = 3)\n",
    "    alt_img = alt_results[1][1]\n",
    "\n",
    "    im_pt = os.path.join(path_images, extension.format(alt_img))             \n",
    "    data_record[\"image_name\"].append(extension.format(alt_img))\n",
    "    data_record[\"image_ID\"].append(ax_id + 200)\n",
    "    data_record[\"image_path\"].append(os.path.join(path_images, extension.format(alt_img)))\n",
    "    data_record[\"image_category\"].append(alt_img[0:-4])\n",
    "    data_record[\"cond\"].append(\"alt\")"
   ]
  },
  {
   "cell_type": "code",
   "execution_count": null,
   "id": "e4cbc251",
   "metadata": {},
   "outputs": [],
   "source": [
    "df = pd.DataFrame(data_record)\n",
    "df.to_csv(\"/projects/crunchie/boyanova/EEG_Things/eeg_prep/exp_stimuli.csv\")"
   ]
  }
 ],
 "metadata": {
  "kernelspec": {
   "display_name": "Python 3",
   "language": "python",
   "name": "python3"
  },
  "language_info": {
   "codemirror_mode": {
    "name": "ipython",
    "version": 3
   },
   "file_extension": ".py",
   "mimetype": "text/x-python",
   "name": "python",
   "nbconvert_exporter": "python",
   "pygments_lexer": "ipython3",
   "version": "3.11.5"
  }
 },
 "nbformat": 4,
 "nbformat_minor": 5
}
