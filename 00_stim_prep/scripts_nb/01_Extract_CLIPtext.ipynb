{
 "cells": [
  {
   "cell_type": "code",
   "execution_count": 1,
   "id": "8e586781",
   "metadata": {},
   "outputs": [],
   "source": [
    "from transformers import CLIPProcessor, CLIPModel\n",
    "from tqdm.notebook import tqdm\n",
    "import pickle\n",
    "import torch\n",
    "import numpy as np\n",
    "\n",
    "\n",
    "def dump_data(data, filename):\n",
    "    print('writing file: ' + filename)\n",
    "    with open(filename, 'wb') as f:\n",
    "        pickle.dump(data, f, pickle.HIGHEST_PROTOCOL)\n",
    "        \n",
    "captions = np.load(\"/projects/crunchie/boyanova/EEG_Things/eeg_prep/scripts/fmri_train_sim_caps.npy\", allow_pickle=True)\n",
    "model = CLIPModel.from_pretrained(\"openai/clip-vit-large-patch14\")\n",
    "processor = CLIPProcessor.from_pretrained(\"openai/clip-vit-large-patch14\")"
   ]
  },
  {
   "cell_type": "code",
   "execution_count": 2,
   "id": "85630be7",
   "metadata": {},
   "outputs": [
    {
     "data": {
      "application/vnd.jupyter.widget-view+json": {
       "model_id": "4da9e42489f248c384ec8e0897a67d9f",
       "version_major": 2,
       "version_minor": 0
      },
      "text/plain": [
       "  0%|          | 0/8640 [00:00<?, ?it/s]"
      ]
     },
     "metadata": {},
     "output_type": "display_data"
    }
   ],
   "source": [
    "embeddings_1 = []  \n",
    "for cap1, cap2 in tqdm(captions):\n",
    "    inputs_1 = processor(text=cap1, return_tensors=\"pt\", padding=True)\n",
    "    \n",
    "    with torch.no_grad():  \n",
    "        embed_1 = model.get_text_features(**inputs_1)\n",
    "    embeddings_1.append(embed_1.detach().cpu().numpy())\n",
    "\n",
    "embeddings_1 = np.array(embeddings_1)\n",
    "\n"
   ]
  },
  {
   "cell_type": "code",
   "execution_count": 12,
   "id": "bbe6bb87",
   "metadata": {},
   "outputs": [],
   "source": [
    "CLIP_txt = {\"captions\": captions[:,0],\n",
    "           \"embeddings\": embeddings_1.reshape(8640, -1)}"
   ]
  },
  {
   "cell_type": "code",
   "execution_count": 13,
   "id": "daa121db",
   "metadata": {},
   "outputs": [
    {
     "name": "stdout",
     "output_type": "stream",
     "text": [
      "writing file: /projects/crunchie/boyanova/EEG_Things/eeg_prep/scripts/CLIP_txt_fmri_768.pickle\n"
     ]
    }
   ],
   "source": [
    "import pickle\n",
    "def dump_data(data, filename):\n",
    "    print('writing file: ' + filename)\n",
    "    with open(filename, 'wb') as f:\n",
    "        pickle.dump(data, f, pickle.HIGHEST_PROTOCOL)\n",
    "        \n",
    "dump_data(CLIP_txt, \"/projects/crunchie/boyanova/EEG_Things/eeg_prep/scripts/CLIP_txt_fmri_768.pickle\")"
   ]
  }
 ],
 "metadata": {
  "kernelspec": {
   "display_name": "Python 3",
   "language": "python",
   "name": "python3"
  },
  "language_info": {
   "codemirror_mode": {
    "name": "ipython",
    "version": 3
   },
   "file_extension": ".py",
   "mimetype": "text/x-python",
   "name": "python",
   "nbconvert_exporter": "python",
   "pygments_lexer": "ipython3",
   "version": "3.11.5"
  }
 },
 "nbformat": 4,
 "nbformat_minor": 5
}
