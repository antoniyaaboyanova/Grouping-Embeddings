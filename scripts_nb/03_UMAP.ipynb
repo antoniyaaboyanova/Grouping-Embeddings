{
 "cells": [
  {
   "cell_type": "markdown",
   "id": "0f127170",
   "metadata": {},
   "source": [
    "### Libraries "
   ]
  },
  {
   "cell_type": "code",
   "execution_count": 1,
   "id": "28438ae2",
   "metadata": {},
   "outputs": [],
   "source": [
    "import numpy as np\n",
    "import pandas as pd\n",
    "import pickle\n",
    "import os\n",
    "import umap\n",
    "import hdbscan\n",
    "from tqdm.notebook import tqdm\n",
    "import numpy as np\n",
    "from sklearn.preprocessing import StandardScaler\n",
    "\n",
    "\n",
    "def load_data(file):\n",
    "\n",
    "    print('loading file: ' + file)\n",
    "    with open(file, 'rb') as f:\n",
    "        data = pickle.load(f)\n",
    "\n",
    "    return(data)\n",
    "\n",
    "def dump_data(data, filename):\n",
    "    print('writing file: ' + filename)\n",
    "    with open(filename, 'wb') as f:\n",
    "        pickle.dump(data, f, pickle.HIGHEST_PROTOCOL)"
   ]
  },
  {
   "cell_type": "markdown",
   "id": "b28d742d",
   "metadata": {},
   "source": [
    "### Load embeddings"
   ]
  },
  {
   "cell_type": "code",
   "execution_count": 3,
   "id": "a55ab7be",
   "metadata": {},
   "outputs": [
    {
     "name": "stdout",
     "output_type": "stream",
     "text": [
      "loading file: /projects/crunchie/boyanova/EEG_Things/Grouping-Embeddings/files/CLIP_vis_fmri.pickle\n",
      "loading file: /projects/crunchie/boyanova/EEG_Things/Grouping-Embeddings/files/CLIP_txt_fmri_blip.pickle\n"
     ]
    },
    {
     "data": {
      "application/vnd.jupyter.widget-view+json": {
       "model_id": "fe077ef969b44ccd88b0c7ee26930fa6",
       "version_major": 2,
       "version_minor": 0
      },
      "text/plain": [
       "  0%|          | 0/8640 [00:00<?, ?it/s]"
      ]
     },
     "metadata": {},
     "output_type": "display_data"
    }
   ],
   "source": [
    "project_dir = \"/projects/crunchie/boyanova/EEG_Things/Grouping-Embeddings\"\n",
    "class_type = \"inanimate\"\n",
    "\n",
    "c_vis = load_data(os.path.join(project_dir, \"files\", \"CLIP_vis_fmri.pickle\"))\n",
    "c_txt = load_data(os.path.join(project_dir,\"files\", \"CLIP_txt_fmri_blip.pickle\"))\n",
    "c_txt[\"category\"] = np.array([x[0:-8] for x in c_vis[\"stimuli\"]])\n",
    "\n",
    "fmri_stim = np.load(os.path.join(project_dir, \"files\", \"fmri_train_stim.npy\"), allow_pickle=True)\n",
    "animal_mask = np.load(os.path.join(project_dir, \"files\", \"animate_mask.npy\"))\n",
    "main_path_stim = \"/projects/crunchie/boyanova/EEG_Things/data_set/Images\"\n",
    "\n",
    "c_vis[\"stimuli_paths\"] = []\n",
    "for im in tqdm(fmri_stim):\n",
    "    im_cat = im.split(\".\")[0][0:-4]\n",
    "    c_vis[\"stimuli_paths\"].append(os.path.join(main_path_stim, im_cat, im))\n",
    "\n",
    "c_vis[\"stimuli_paths\"] = np.array(c_vis[\"stimuli_paths\"])\n",
    "c_vis[\"category\"] = c_txt[\"category\"]"
   ]
  },
  {
   "cell_type": "markdown",
   "id": "ce522b31",
   "metadata": {},
   "source": [
    "### Clusters CLIP-vis"
   ]
  },
  {
   "cell_type": "code",
   "execution_count": 5,
   "id": "df6add06",
   "metadata": {},
   "outputs": [],
   "source": [
    "reducer = umap.UMAP(n_neighbors=30, n_components=5, random_state=42)\n",
    "clusterer = hdbscan.HDBSCAN(min_cluster_size=100, metric='euclidean')"
   ]
  },
  {
   "cell_type": "code",
   "execution_count": null,
   "id": "6769cde3",
   "metadata": {},
   "outputs": [
    {
     "name": "stderr",
     "output_type": "stream",
     "text": [
      "/projects/crunchie/boyanova/anaconda3/lib/python3.11/site-packages/umap/umap_.py:1945: UserWarning: n_jobs value 1 overridden to 1 by setting random_state. Use no seed for parallelism.\n",
      "  warn(f\"n_jobs value {self.n_jobs} overridden to 1 by setting random_state. Use no seed for parallelism.\")\n"
     ]
    }
   ],
   "source": [
    "### Get rid of all animate objects\n",
    "if class_type ==\"inanimate\":\n",
    "    animal_mask = ~animal_mask\n",
    "embeddings = c_vis[\"embeddings\"][animal_mask, :]\n",
    "stimuli = c_vis[\"stimuli\"][animal_mask]\n",
    "stimuli_paths = c_vis[\"stimuli_paths\"][animal_mask]\n",
    "\n",
    "\n",
    "scaler = StandardScaler()\n",
    "embeddings = scaler.fit_transform(embeddings)\n",
    "reduced_embeddings = reducer.fit_transform(embeddings)\n",
    "labels = clusterer.fit_predict(reduced_embeddings)\n",
    "cluster = labels"
   ]
  },
  {
   "cell_type": "code",
   "execution_count": 7,
   "id": "70a7af8d",
   "metadata": {},
   "outputs": [],
   "source": [
    "c_vis = {\"embeddings\": embeddings, \n",
    "        \"stimuli\": stimuli,\n",
    "        \"stimuli_paths\": stimuli_paths,\n",
    "        \"category\": np.array([x[0:-8] for x in stimuli]),\n",
    "        \"cluster\": labels}\n",
    "\n",
    "### Compute centroid\n",
    "embeddings_df = pd.DataFrame(c_vis[\"embeddings\"].tolist())\n",
    "embeddings_df['cluster'] = c_vis[\"cluster\"]\n",
    "centroids = embeddings_df.groupby('cluster').mean().to_numpy()\n",
    "\n",
    "c_vis[\"cluster_centroids\"] = centroids\n",
    "\n",
    "file_name = f\"CLIP_vis_fmri_{class_type}.pickle\"\n",
    "dump_data(c_vis, os.path.join(project_dir, \"files\", file_name))"
   ]
  },
  {
   "cell_type": "markdown",
   "id": "b83f79ff",
   "metadata": {},
   "source": [
    "### Clusters CLIP-txt"
   ]
  },
  {
   "cell_type": "code",
   "execution_count": 156,
   "id": "ee02f30c",
   "metadata": {},
   "outputs": [],
   "source": [
    "embeddings = c_txt[\"embeddings\"][animal_mask, :]\n",
    "scaler = StandardScaler()\n",
    "embeddings = scaler.fit_transform(embeddings)\n",
    "reduced_embeddings = reducer.fit_transform(embeddings)\n",
    "labels = clusterer.fit_predict(reduced_embeddings)\n",
    "cluster = labels"
   ]
  },
  {
   "cell_type": "code",
   "execution_count": 165,
   "id": "30557f1f",
   "metadata": {},
   "outputs": [],
   "source": [
    "c_txt = {\"embeddings\": embeddings, \n",
    "        \"stimuli\": stimuli,\n",
    "        \"stimuli_paths\": stimuli_paths,\n",
    "        \"category\": np.array([x[0:-8] for x in stimuli]),\n",
    "        \"cluster\": labels}"
   ]
  },
  {
   "cell_type": "code",
   "execution_count": 170,
   "id": "f305a972",
   "metadata": {},
   "outputs": [],
   "source": [
    "### Compute centroid\n",
    "embeddings_df = pd.DataFrame(c_txt[\"embeddings\"].tolist())\n",
    "embeddings_df['cluster'] = c_txt[\"cluster\"]\n",
    "centroids = embeddings_df.groupby('cluster').mean().to_numpy()"
   ]
  },
  {
   "cell_type": "code",
   "execution_count": 171,
   "id": "5d58d952",
   "metadata": {},
   "outputs": [],
   "source": [
    "c_txt[\"cluster_centroids\"] = centroids\n",
    "file_name = f\"CLIP_txt_fmri_blip_{class_type}.pickle\"\n",
    "dump_data(c_vis, os.path.join(project_dir, \"files\", file_name))"
   ]
  }
 ],
 "metadata": {
  "kernelspec": {
   "display_name": "base",
   "language": "python",
   "name": "python3"
  },
  "language_info": {
   "codemirror_mode": {
    "name": "ipython",
    "version": 3
   },
   "file_extension": ".py",
   "mimetype": "text/x-python",
   "name": "python",
   "nbconvert_exporter": "python",
   "pygments_lexer": "ipython3",
   "version": "3.11.5"
  }
 },
 "nbformat": 4,
 "nbformat_minor": 5
}
