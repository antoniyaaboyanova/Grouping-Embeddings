{
 "cells": [
  {
   "cell_type": "code",
   "execution_count": 1,
   "id": "c040f300",
   "metadata": {},
   "outputs": [],
   "source": [
    "### libs\n",
    "import pandas as pd\n",
    "import numpy as np\n",
    "import os\n",
    "from tqdm.notebook import tqdm\n",
    "from autogluon.multimodal import MultiModalPredictor # you will need to install this package"
   ]
  },
  {
   "cell_type": "code",
   "execution_count": 2,
   "id": "55a14f7a",
   "metadata": {},
   "outputs": [
    {
     "data": {
      "application/vnd.jupyter.widget-view+json": {
       "model_id": "427d35c756024d0b97c65ec3cb1bcf8a",
       "version_major": 2,
       "version_minor": 0
      },
      "text/plain": [
       "  0%|          | 0/26107 [00:00<?, ?it/s]"
      ]
     },
     "metadata": {},
     "output_type": "display_data"
    }
   ],
   "source": [
    "### paths & vars\n",
    "\n",
    "# substitute with a path where all of your images are\n",
    "#!! the images should NOT be in separated paths\n",
    "image_path = '/projects/crunchie/boyanova/EEG_Things/data_set/Images_all' \n",
    "\n",
    "names = os.listdir(image_path)\n",
    "image_paths = []\n",
    "for im_idx in tqdm(range(len(names))):\n",
    "    image_paths.append((os.path.join(image_path, names[im_idx])))\n",
    "\n",
    "#!! I simulate captions    \n",
    "captions = [\"There is a {} in the image\".format(x[0:-8]) for x in names]\n",
    "\n",
    "#!! these are specifics for my case\n",
    "photo_jig_ids = [idx for idx, x in enumerate(names) if x[0:-8] in [\"photo_booth\", \"jigsaw_puzzle\"]]\n",
    "keep = [x for x in np.arange(len(names)) if x not in photo_jig_ids]\n",
    "\n",
    "# final sample\n",
    "captions = np.array(captions)[keep]\n",
    "image_paths = np.array(image_paths)[keep]\n"
   ]
  },
  {
   "cell_type": "code",
   "execution_count": 5,
   "id": "88d11987",
   "metadata": {},
   "outputs": [
    {
     "data": {
      "application/vnd.jupyter.widget-view+json": {
       "model_id": "5e209c4d67f5476ea27b9c4e4572ce46",
       "version_major": 2,
       "version_minor": 0
      },
      "text/plain": [
       "Predicting: |          | 0/? [00:00<?, ?it/s]"
      ]
     },
     "metadata": {},
     "output_type": "display_data"
    },
    {
     "name": "stdout",
     "output_type": "stream",
     "text": [
      "(26078, 512)\n"
     ]
    },
    {
     "data": {
      "application/vnd.jupyter.widget-view+json": {
       "model_id": "eb4bdbaf44214eda8398dfdde1807e47",
       "version_major": 2,
       "version_minor": 0
      },
      "text/plain": [
       "Predicting: |          | 0/? [00:00<?, ?it/s]"
      ]
     },
     "metadata": {},
     "output_type": "display_data"
    },
    {
     "name": "stdout",
     "output_type": "stream",
     "text": [
      "(26078, 512)\n"
     ]
    }
   ],
   "source": [
    "### extract embeddings\n",
    "predictor = MultiModalPredictor(hyperparameters={\"model.names\": [\"clip\"]}, problem_type='image_similarity')\n",
    "\n",
    "# extract image embeddings\n",
    "image_embeddings = predictor.extract_embedding({\"image\": image_paths})\n",
    "print(image_embeddings.shape)\n",
    "np.save(\"CLIP_VisionThings.npy\", image_embeddings)\n",
    "\n",
    "# extract text embeddings\n",
    "predictor = MultiModalPredictor(hyperparameters={\"model.names\": [\"clip\"]}, problem_type='text_similarity')\n",
    "\n",
    "# extract text embeddings.\n",
    "text_embeddings = predictor.extract_embedding({\"text\": captions})\n",
    "print(text_embeddings.shape)\n",
    "np.save(\"CLIP_TextThings.npy\", text_embeddings)"
   ]
  },
  {
   "cell_type": "code",
   "execution_count": null,
   "id": "56d92716",
   "metadata": {},
   "outputs": [],
   "source": []
  }
 ],
 "metadata": {
  "kernelspec": {
   "display_name": "Python 3",
   "language": "python",
   "name": "python3"
  },
  "language_info": {
   "codemirror_mode": {
    "name": "ipython",
    "version": 3
   },
   "file_extension": ".py",
   "mimetype": "text/x-python",
   "name": "python",
   "nbconvert_exporter": "python",
   "pygments_lexer": "ipython3",
   "version": "3.11.5"
  }
 },
 "nbformat": 4,
 "nbformat_minor": 5
}
